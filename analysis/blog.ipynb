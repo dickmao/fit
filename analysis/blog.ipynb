{
 "cells": [
  {
   "cell_type": "code",
   "execution_count": 3,
   "metadata": {
    "autoscroll": false,
    "collapsed": false,
    "ein.tags": "worksheet-0",
    "slideshow": {
     "slide_type": "-"
    }
   },
   "outputs": [],
   "source": [
    "from __future__ import division, print_function\n",
    "import logging\n",
    "\n",
    "from time import time\n",
    "import os, errno, operator, re, sys, subprocess, signal\n",
    "import itertools, shutil, requests\n",
    "\n",
    "from corenlp import CoreNLPClient, WordTokenizer, SentTokenizer\n",
    "import numpy as np\n",
    "import enchant\n",
    "import matplotlib.pyplot as plt\n",
    "\n",
    "from gensim import parsing, matutils, interfaces, corpora, models, similarities, summarization\n",
    "from gensim.utils import lemmatize\n",
    "from gensim.corpora.mmcorpus import MmCorpus\n",
    "from gensim.matutils import corpus2csc\n",
    "from gensim.similarities.docsim import SparseMatrixSimilarity\n",
    "\n",
    "from collections import Callable\n",
    "from nltk import collocations, association, text, tree\n",
    "from nltk import bigrams,ConditionalFreqDist,FreqDist,pos_tag,pos_tag_sents\n",
    "from nltk.grammar import DependencyGrammar\n",
    "from nltk.parse import (\n",
    "    DependencyGraph, ProjectiveDependencyParser, NonprojectiveDependencyParser)\n",
    "\n",
    "from nltk.corpus import dependency_treebank\n",
    "from nltk.corpus import treebank_raw\n",
    "from nltk.corpus import treebank\n",
    "from nltk.corpus.util import LazyCorpusLoader\n",
    "\n",
    "import re, json\n",
    "from os.path import getmtime, join, realpath\n",
    "\n",
    "import dateutil.parser\n",
    "from pytz import utc\n",
    "from datetime import datetime\n",
    "from dateutil.tz import tzlocal\n",
    "from bisect import bisect_left\n",
    "\n",
    "from reader import Json100CorpusReader\n",
    "\n",
    "import sklearn.externals.joblib\n",
    "from sklearn.preprocessing import FunctionTransformer\n",
    "from sklearn.feature_extraction.text import CountVectorizer, TfidfTransformer\n",
    "from sklearn.feature_selection import SelectFromModel\n",
    "from sklearn.feature_selection import SelectKBest, chi2\n",
    "from sklearn.linear_model import RidgeClassifier\n",
    "from sklearn.pipeline import Pipeline, FeatureUnion, make_pipeline\n",
    "from sklearn.svm import LinearSVC, SVC\n",
    "from sklearn.multiclass import OneVsRestClassifier\n",
    "from sklearn.linear_model import SGDClassifier\n",
    "from sklearn.linear_model import Perceptron\n",
    "from sklearn.linear_model import PassiveAggressiveClassifier\n",
    "from sklearn.naive_bayes import BernoulliNB, ComplementNB, MultinomialNB\n",
    "from sklearn.neighbors import KNeighborsClassifier\n",
    "from sklearn.neighbors import NearestCentroid\n",
    "from sklearn.ensemble import RandomForestClassifier\n",
    "from sklearn.utils.extmath import density\n",
    "from sklearn import metrics\n",
    "from sklearn.model_selection import GridSearchCV, StratifiedKFold, ParameterGrid\n",
    "\n",
    "# Display progress logs on stdout\n",
    "logging.basicConfig(level=logging.INFO,\n",
    "                    format='%(asctime)s %(levelname)s %(message)s')\n"
   ]
  },
  {
   "cell_type": "code",
   "execution_count": 4,
   "metadata": {
    "autoscroll": false,
    "collapsed": false,
    "ein.tags": "worksheet-0",
    "slideshow": {
     "slide_type": "-"
    }
   },
   "outputs": [],
   "source": [
    "def determine_payfor_fencepost(dt1, thresh):\n",
    "    Markers = sorted([f for f in os.listdir(join(wdir, \"dmoz\")) if re.search(r'Marker\\..*\\.json$', f)],                      reverse=True)\n",
    "    jsons = []\n",
    "    for m in Markers:\n",
    "        within = False\n",
    "        with open(join(wdir, \"dmoz\", m), 'r') as fp:\n",
    "            url2dt = json.load(fp, object_hook=datetime_parser)\n",
    "            for url,dt0 in url2dt.iteritems():\n",
    "                if (dt1 - dt0).days < thresh:\n",
    "                    within = True\n",
    "                    break\n",
    "        if within:\n",
    "            jsons.append(\"{}.{}.json\".format(\"dmoz\", m.split('.')[1]))\n",
    "        else:\n",
    "            break\n",
    "    return jsons\n",
    "def datetime_parser(json_dict):\n",
    "    for k,v in json_dict.iteritems():\n",
    "        try:\n",
    "            json_dict[k] = dateutil.parser.parse(v)\n",
    "        except (ValueError, AttributeError):\n",
    "            pass\n",
    "    return json_dict\n",
    "\n",
    "\n",
    "def make_dict(docs):\n",
    "    # corpora.Dictionary is a static method of gensim.corpora\n",
    "    # it establishes the base of operations numbering the vocab,\n",
    "    dictionary = corpora.Dictionary(docs)\n",
    "    myset = set(['WRB', 'WP$', 'WP', 'WDT', 'TO', 'RP', 'PRP$', 'PRP', 'PDT', 'MD', 'IN', 'EX', 'DT', 'CC', 'UH', ])\n",
    "    myset = set(['WRB', 'WP$', 'WP', 'WDT', 'TO', 'RP', 'PRP$', 'PRP', 'PDT', 'MD', 'IN', 'EX', 'DT', 'CC', 'RB', 'RBR', 'RBS', 'UH', 'NNP', 'NNS',  ])\n",
    "    myset = set(['WRB', 'WP$', 'WP', 'WDT', 'TO', 'RP', 'PRP$', 'PRP', 'PDT', 'MD', 'IN', 'EX', 'DT', 'CC', 'RB', 'RBR', 'RBS', 'UH', 'NNP', 'NNS',  ])\n",
    "    myset = set(['WRB', 'WP$', 'WP', 'WDT', 'TO', 'RP', 'PRP$', 'PRP', 'PDT', 'MD', 'IN', 'EX', 'DT', 'CC', 'UH', 'RB', 'RBR', 'RBS', 'NN', 'NNP', 'NNS', 'NNPS', 'VB', 'VBD', 'VBG', 'VBN', 'VBZ' ])\n",
    "    contextual_ids = [dictionary.token2id[k[0][0]] for k in pos_tag_sents([[w] for w in dictionary.values()]) if k[0][1] not in myset]\n",
    "    \n",
    "    # dictionary.filter_tokens(bad_ids=itertools.chain(\n",
    "    #  [stopword for stopword in set('for a of the and to in'.split()) if stopword in dictionary.token2id],\n",
    "    #  [tokenid for tokenid, docfreq in dictionary.dfs.iteritems() if docfreq == 1],\n",
    "    #  [id for id in dictionary.keys() if not re.search(\"[a-zA-Z]\", dictionary.get(id))],\n",
    "    #  [id for id in dictionary.keys() if not enchant.Dict(\"en_US\").check(dictionary.get(id))]\n",
    "    # ))\n",
    "\n",
    "    dictionary.filter_extremes(no_below=2, no_above=0.5)\n",
    "    return dictionary\n"
   ]
  },
  {
   "cell_type": "code",
   "execution_count": 5,
   "metadata": {
    "autoscroll": false,
    "collapsed": false,
    "ein.tags": "worksheet-0",
    "slideshow": {
     "slide_type": "-"
    }
   },
   "outputs": [],
   "source": [
    "tla = ['abo', 'sub', 'apa', 'cto']\n",
    "wdir = os.path.expanduser('~/scrapy')\n",
    "os.environ['CLASSPATH'] = join(wdir, '../lib')\n",
    "os.environ['CORENLP_HOME'] = join(os.environ[\"HOME\"], \"CoreNLP\")\n",
    "os.chdir(wdir)\n",
    "\n",
    "dt_marker1 = datetime.fromtimestamp(getmtime(os.path.realpath(join(wdir, \"dmoz\", 'marker1'))))\n",
    "utcnow = utc.localize(dt_marker1)\n",
    "jsons = determine_payfor_fencepost(utcnow, 9)\n"
   ]
  },
  {
   "cell_type": "code",
   "execution_count": 6,
   "metadata": {
    "autoscroll": false,
    "collapsed": false,
    "ein.tags": "worksheet-0",
    "slideshow": {
     "slide_type": "-"
    }
   },
   "outputs": [],
   "source": [
    "client = CoreNLPClient(start_cmd=\"gradle -p {} server\".format(os.getenv(\"CORENLP_HOME\")), endpoint=\"http://localhost:9005\", timeout=15000)"
   ]
  },
  {
   "cell_type": "code",
   "execution_count": 7,
   "metadata": {
    "autoscroll": false,
    "collapsed": false,
    "ein.tags": "worksheet-0",
    "slideshow": {
     "slide_type": "-"
    }
   },
   "outputs": [],
   "source": [
    "filtered = []\n",
    "cr = Json100CorpusReader(join(wdir, \"dmoz\"), jsons, dedupe=\"id\", word_tokenizer=WordTokenizer(client), sent_tokenizer=SentTokenizer(client))\n",
    "ids = cr.field('id')\n",
    "crabo = Json100CorpusReader(join(wdir, \"dmoz\"), jsons, dedupe=\"id\", link_select='abo', exclude=set([ids[i] for i in filtered]), word_tokenizer=WordTokenizer(client), sent_tokenizer=SentTokenizer(client))\n",
    "crsub = Json100CorpusReader(join(wdir, \"dmoz\"), jsons, dedupe=\"id\", link_select='sub', exclude=set([ids[i] for i in filtered]), word_tokenizer=WordTokenizer(client), sent_tokenizer=SentTokenizer(client))\n",
    "crjoin = Json100CorpusReader(join(wdir, \"joinery\"), [\"marker1\"], dedupe=\"id\", word_tokenizer=WordTokenizer(client), sent_tokenizer=SentTokenizer(client))\n",
    "crlp = Json100CorpusReader(join(wdir, \"listingsproject\"), [\"marker1\"], dedupe=\"id\", word_tokenizer=WordTokenizer(client), sent_tokenizer=SentTokenizer(client))\n"
   ]
  },
  {
   "cell_type": "code",
   "execution_count": 8,
   "metadata": {
    "autoscroll": false,
    "collapsed": false,
    "ein.tags": "worksheet-0",
    "slideshow": {
     "slide_type": "-"
    }
   },
   "outputs": [],
   "source": [
    "crtrain_desc = list(itertools.chain(crabo.field('desc'), crlp.field('desc')))\n",
    "crtrain_labels = [-1] * len(crabo) + [1] * len(crlp)\n",
    "crtest_desc = list(itertools.chain(crsub.field('desc'), crjoin.field('desc')))\n",
    "crtest_labels = [-1] * len(crsub) + [1] * len(crjoin)\n"
   ]
  },
  {
   "cell_type": "code",
   "execution_count": 13,
   "metadata": {
    "autoscroll": false,
    "collapsed": false,
    "ein.tags": "worksheet-0",
    "slideshow": {
     "slide_type": "-"
    }
   },
   "outputs": [],
   "source": [
    "class CallableAnnotate(Callable):\n",
    "    def __init__(self, client):\n",
    "        self._client = client\n",
    "\n",
    "    def __call__(self, doc):\n",
    "        ann = client.annotate(doc, annotators=\"ner\".split())\n",
    "        return itertools.chain.from_iterable([[t.lemma for t in s.token if t.pos != \"CD\"] for s in ann.sentence])\n",
    "\n",
    "def get_text_length(docs):\n",
    "    return np.array([len(doc) for doc in docs]).reshape(-1, 1)\n",
    "\n",
    "def count_pronouns(docs):\n",
    "    result = []\n",
    "    for doc in docs:\n",
    "        ann = client.annotate(doc, annotators=\"ner\".split())\n",
    "        result.append(sum(itertools.chain.from_iterable([[1 for t in s.token if (t.pos == \"PRP\" or t.pos == \"PRP$\")] for s in ann.sentence])))\n",
    "    return np.asarray(result).reshape(-1, 1)\n"
   ]
  },
  {
   "cell_type": "code",
   "execution_count": null,
   "metadata": {
    "autoscroll": false,
    "collapsed": false,
    "ein.tags": "worksheet-0",
    "slideshow": {
     "slide_type": "-"
    }
   },
   "outputs": [],
   "source": [
    "features = FeatureUnion([\n",
    "        ('text', Pipeline([\n",
    "            ('vectorizer', CountVectorizer(max_df=0.5, min_df=2, analyzer=CallableAnnotate(client))),\n",
    "            ('tfidf', TfidfTransformer()),\n",
    "        ])),\n",
    "        ('length', Pipeline([\n",
    "            ('count', FunctionTransformer(get_text_length, validate=False)),\n",
    "        ])),\n",
    "        ('pronouns', Pipeline([\n",
    "            ('count', FunctionTransformer(count_pronouns, validate=False)),\n",
    "        ])),\n",
    "])"
   ]
  },
  {
   "cell_type": "code",
   "execution_count": null,
   "metadata": {
    "autoscroll": false,
    "collapsed": false,
    "ein.tags": "worksheet-0",
    "slideshow": {
     "slide_type": "-"
    }
   },
   "outputs": [],
   "source": [
    "svc = make_pipeline(features, SVC(C=10,kernel='linear'), memory=sklearn.externals.joblib.Memory(cachedir=\"/var/tmp\", verbose=0))\n",
    "svc.fit(crtrain_desc, crtrain_labels)\n",
    "joblib.dump(svc, 'blog.pkl')"
   ]
  },
  {
   "cell_type": "code",
   "execution_count": 14,
   "metadata": {
    "autoscroll": false,
    "collapsed": false,
    "ein.tags": "worksheet-0",
    "slideshow": {
     "slide_type": "-"
    }
   },
   "outputs": [],
   "source": [
    "svc = make_pipeline(features, SVC(), memory=sklearn.externals.joblib.Memory(cachedir=\"/var/tmp\", verbose=0))\n",
    "# svc.steps[-1] = ('ridgeclassifier', RidgeClassifier(tol=1e-2, solver=\"lsqr\"))\n"
   ]
  },
  {
   "cell_type": "code",
   "execution_count": 15,
   "metadata": {
    "autoscroll": false,
    "collapsed": true,
    "ein.tags": "worksheet-0",
    "slideshow": {
     "slide_type": "-"
    }
   },
   "outputs": [
    {
     "ename": "TypeError",
     "evalue": "Singleton array array(<itertools.chain object at 0x7f118ba21410>, dtype=object) cannot be considered a valid collection.",
     "output_type": "error",
     "traceback": [
      "\u001b[0;31m\u001b[0m",
      "\u001b[0;31mTypeError\u001b[0mTraceback (most recent call last)",
      "\u001b[0;32m<ipython-input-15-567f79fbcb96>\u001b[0m in \u001b[0;36m<module>\u001b[0;34m()\u001b[0m\n\u001b[1;32m     17\u001b[0m \u001b[0;34m\u001b[0m\u001b[0m\n\u001b[1;32m     18\u001b[0m \u001b[0mt0\u001b[0m \u001b[0;34m=\u001b[0m \u001b[0mtime\u001b[0m\u001b[0;34m(\u001b[0m\u001b[0;34m)\u001b[0m\u001b[0;34m\u001b[0m\u001b[0m\n\u001b[0;32m---> 19\u001b[0;31m \u001b[0mgrid_svm\u001b[0m\u001b[0;34m.\u001b[0m\u001b[0mfit\u001b[0m\u001b[0;34m(\u001b[0m\u001b[0mcrtrain_desc\u001b[0m\u001b[0;34m,\u001b[0m \u001b[0mcrtrain_labels\u001b[0m\u001b[0;34m)\u001b[0m\u001b[0;34m\u001b[0m\u001b[0m\n\u001b[0m\u001b[1;32m     20\u001b[0m \u001b[0;32mprint\u001b[0m\u001b[0;34m(\u001b[0m\u001b[0;34m\"done in %0.3fs\"\u001b[0m \u001b[0;34m%\u001b[0m \u001b[0;34m(\u001b[0m\u001b[0mtime\u001b[0m\u001b[0;34m(\u001b[0m\u001b[0;34m)\u001b[0m \u001b[0;34m-\u001b[0m \u001b[0mt0\u001b[0m\u001b[0;34m)\u001b[0m\u001b[0;34m)\u001b[0m\u001b[0;34m\u001b[0m\u001b[0m\n",
      "\u001b[0;32m/home/dick/.local/lib/python2.7/site-packages/sklearn/model_selection/_search.pyc\u001b[0m in \u001b[0;36mfit\u001b[0;34m(self, X, y, groups, **fit_params)\u001b[0m\n\u001b[1;32m    613\u001b[0m             \u001b[0mrefit_metric\u001b[0m \u001b[0;34m=\u001b[0m \u001b[0;34m'score'\u001b[0m\u001b[0;34m\u001b[0m\u001b[0m\n\u001b[1;32m    614\u001b[0m \u001b[0;34m\u001b[0m\u001b[0m\n\u001b[0;32m--> 615\u001b[0;31m         \u001b[0mX\u001b[0m\u001b[0;34m,\u001b[0m \u001b[0my\u001b[0m\u001b[0;34m,\u001b[0m \u001b[0mgroups\u001b[0m \u001b[0;34m=\u001b[0m \u001b[0mindexable\u001b[0m\u001b[0;34m(\u001b[0m\u001b[0mX\u001b[0m\u001b[0;34m,\u001b[0m \u001b[0my\u001b[0m\u001b[0;34m,\u001b[0m \u001b[0mgroups\u001b[0m\u001b[0;34m)\u001b[0m\u001b[0;34m\u001b[0m\u001b[0m\n\u001b[0m\u001b[1;32m    616\u001b[0m         \u001b[0mn_splits\u001b[0m \u001b[0;34m=\u001b[0m \u001b[0mcv\u001b[0m\u001b[0;34m.\u001b[0m\u001b[0mget_n_splits\u001b[0m\u001b[0;34m(\u001b[0m\u001b[0mX\u001b[0m\u001b[0;34m,\u001b[0m \u001b[0my\u001b[0m\u001b[0;34m,\u001b[0m \u001b[0mgroups\u001b[0m\u001b[0;34m)\u001b[0m\u001b[0;34m\u001b[0m\u001b[0m\n\u001b[1;32m    617\u001b[0m         \u001b[0;31m# Regenerate parameter iterable for each fit\u001b[0m\u001b[0;34m\u001b[0m\u001b[0;34m\u001b[0m\u001b[0m\n",
      "\u001b[0;32m/home/dick/.local/lib/python2.7/site-packages/sklearn/utils/validation.pyc\u001b[0m in \u001b[0;36mindexable\u001b[0;34m(*iterables)\u001b[0m\n\u001b[1;32m    228\u001b[0m         \u001b[0;32melse\u001b[0m\u001b[0;34m:\u001b[0m\u001b[0;34m\u001b[0m\u001b[0m\n\u001b[1;32m    229\u001b[0m             \u001b[0mresult\u001b[0m\u001b[0;34m.\u001b[0m\u001b[0mappend\u001b[0m\u001b[0;34m(\u001b[0m\u001b[0mnp\u001b[0m\u001b[0;34m.\u001b[0m\u001b[0marray\u001b[0m\u001b[0;34m(\u001b[0m\u001b[0mX\u001b[0m\u001b[0;34m)\u001b[0m\u001b[0;34m)\u001b[0m\u001b[0;34m\u001b[0m\u001b[0m\n\u001b[0;32m--> 230\u001b[0;31m     \u001b[0mcheck_consistent_length\u001b[0m\u001b[0;34m(\u001b[0m\u001b[0;34m*\u001b[0m\u001b[0mresult\u001b[0m\u001b[0;34m)\u001b[0m\u001b[0;34m\u001b[0m\u001b[0m\n\u001b[0m\u001b[1;32m    231\u001b[0m     \u001b[0;32mreturn\u001b[0m \u001b[0mresult\u001b[0m\u001b[0;34m\u001b[0m\u001b[0m\n\u001b[1;32m    232\u001b[0m \u001b[0;34m\u001b[0m\u001b[0m\n",
      "\u001b[0;32m/home/dick/.local/lib/python2.7/site-packages/sklearn/utils/validation.pyc\u001b[0m in \u001b[0;36mcheck_consistent_length\u001b[0;34m(*arrays)\u001b[0m\n\u001b[1;32m    199\u001b[0m     \"\"\"\n\u001b[1;32m    200\u001b[0m \u001b[0;34m\u001b[0m\u001b[0m\n\u001b[0;32m--> 201\u001b[0;31m     \u001b[0mlengths\u001b[0m \u001b[0;34m=\u001b[0m \u001b[0;34m[\u001b[0m\u001b[0m_num_samples\u001b[0m\u001b[0;34m(\u001b[0m\u001b[0mX\u001b[0m\u001b[0;34m)\u001b[0m \u001b[0;32mfor\u001b[0m \u001b[0mX\u001b[0m \u001b[0;32min\u001b[0m \u001b[0marrays\u001b[0m \u001b[0;32mif\u001b[0m \u001b[0mX\u001b[0m \u001b[0;32mis\u001b[0m \u001b[0;32mnot\u001b[0m \u001b[0mNone\u001b[0m\u001b[0;34m]\u001b[0m\u001b[0;34m\u001b[0m\u001b[0m\n\u001b[0m\u001b[1;32m    202\u001b[0m     \u001b[0muniques\u001b[0m \u001b[0;34m=\u001b[0m \u001b[0mnp\u001b[0m\u001b[0;34m.\u001b[0m\u001b[0munique\u001b[0m\u001b[0;34m(\u001b[0m\u001b[0mlengths\u001b[0m\u001b[0;34m)\u001b[0m\u001b[0;34m\u001b[0m\u001b[0m\n\u001b[1;32m    203\u001b[0m     \u001b[0;32mif\u001b[0m \u001b[0mlen\u001b[0m\u001b[0;34m(\u001b[0m\u001b[0muniques\u001b[0m\u001b[0;34m)\u001b[0m \u001b[0;34m>\u001b[0m \u001b[0;36m1\u001b[0m\u001b[0;34m:\u001b[0m\u001b[0;34m\u001b[0m\u001b[0m\n",
      "\u001b[0;32m/home/dick/.local/lib/python2.7/site-packages/sklearn/utils/validation.pyc\u001b[0m in \u001b[0;36m_num_samples\u001b[0;34m(x)\u001b[0m\n\u001b[1;32m    118\u001b[0m         \u001b[0;32mif\u001b[0m \u001b[0mlen\u001b[0m\u001b[0;34m(\u001b[0m\u001b[0mx\u001b[0m\u001b[0;34m.\u001b[0m\u001b[0mshape\u001b[0m\u001b[0;34m)\u001b[0m \u001b[0;34m==\u001b[0m \u001b[0;36m0\u001b[0m\u001b[0;34m:\u001b[0m\u001b[0;34m\u001b[0m\u001b[0m\n\u001b[1;32m    119\u001b[0m             raise TypeError(\"Singleton array %r cannot be considered\"\n\u001b[0;32m--> 120\u001b[0;31m                             \" a valid collection.\" % x)\n\u001b[0m\u001b[1;32m    121\u001b[0m         \u001b[0;32mreturn\u001b[0m \u001b[0mx\u001b[0m\u001b[0;34m.\u001b[0m\u001b[0mshape\u001b[0m\u001b[0;34m[\u001b[0m\u001b[0;36m0\u001b[0m\u001b[0;34m]\u001b[0m\u001b[0;34m\u001b[0m\u001b[0m\n\u001b[1;32m    122\u001b[0m     \u001b[0;32melse\u001b[0m\u001b[0;34m:\u001b[0m\u001b[0;34m\u001b[0m\u001b[0m\n",
      "\u001b[0;31mTypeError\u001b[0m: Singleton array array(<itertools.chain object at 0x7f118ba21410>, dtype=object) cannot be considered a valid collection."
     ]
    }
   ],
   "source": [
    "svm_grid = [\n",
    "    { 'svc__C': (1, 10, 100, 1000), 'svc__kernel': ['linear']},\n",
    "    { 'svc__C': (1, 10, 100, 1000), 'svc__gamma': (0.001, 0.0001), 'svc__kernel': ['rbf']},\n",
    "]\n",
    "vect_grid = {\n",
    "    'featureunion__text__vectorizer__ngram_range': ((1,1), (1,2)), # unigrams or bigrams\n",
    "    'featureunion__text__vectorizer__max_df': (0.5, 0.75, 1.0),\n",
    "}\n",
    "\n",
    "param_grid = [ dict(itertools.chain(vect_grid.items(), d.items())) for d in svm_grid ]\n",
    "grid_svm = GridSearchCV(\n",
    "    svc,\n",
    "    param_grid=param_grid,\n",
    "    n_jobs=-1,\n",
    "    cv=StratifiedKFold(n_splits=5, random_state=1618, shuffle=True),\n",
    ")\n",
    "\n",
    "t0 = time()\n",
    "grid_svm.fit(list(crtrain_desc), crtrain_labels)\n",
    "print(\"done in %0.3fs\" % (time() - t0))\n"
   ]
  },
  {
   "cell_type": "code",
   "execution_count": 146,
   "metadata": {
    "autoscroll": false,
    "collapsed": false,
    "ein.tags": "worksheet-0",
    "slideshow": {
     "slide_type": "-"
    }
   },
   "outputs": [
    {
     "name": "stdout",
     "output_type": "stream",
     "text": [
      "Best score: 0.987\n"
     ]
    },
    {
     "data": {
      "text/plain": [
       "[('featureunion__text__vectorizer__ngram_range', (1, 1)),\n",
       " ('svc__gamma', 'auto'),\n",
       " ('featureunion__text__vectorizer__max_df', 0.5),\n",
       " ('svc__C', 10),\n",
       " ('svc__kernel', 'linear')]"
      ]
     },
     "execution_count": 146,
     "metadata": {},
     "output_type": "execute_result"
    }
   ],
   "source": [
    "print(\"Best score: %0.3f\" % grid_svm.best_score_)\n",
    "[(i, grid_svm.best_estimator_.get_params()[i]) for i in set(itertools.chain.from_iterable([key for key in [d.keys() for d in param_grid]]))]"
   ]
  },
  {
   "cell_type": "code",
   "execution_count": 164,
   "metadata": {
    "autoscroll": false,
    "collapsed": false,
    "ein.tags": "worksheet-0",
    "slideshow": {
     "slide_type": "-"
    }
   },
   "outputs": [
    {
     "data": {
      "text/plain": [
       "['best.pkl']"
      ]
     },
     "execution_count": 164,
     "metadata": {},
     "output_type": "execute_result"
    }
   ],
   "source": [
    "from sklearn.externals import joblib\n",
    "joblib.dump(grid_svm, 'best.pkl')"
   ]
  },
  {
   "cell_type": "code",
   "execution_count": 149,
   "metadata": {
    "autoscroll": false,
    "collapsed": false,
    "ein.tags": "worksheet-0",
    "slideshow": {
     "slide_type": "-"
    }
   },
   "outputs": [
    {
     "data": {
      "text/plain": [
       "0.89131266743207038"
      ]
     },
     "execution_count": 149,
     "metadata": {},
     "output_type": "execute_result"
    }
   ],
   "source": [
    "grid_svm.score(crtest.field('desc'), crtest_labels)"
   ]
  },
  {
   "cell_type": "code",
   "execution_count": 150,
   "metadata": {
    "autoscroll": false,
    "collapsed": false,
    "ein.tags": "worksheet-0",
    "slideshow": {
     "slide_type": "-"
    }
   },
   "outputs": [
    {
     "data": {
      "text/plain": [
       "0.67317259854573286"
      ]
     },
     "execution_count": 150,
     "metadata": {},
     "output_type": "execute_result"
    }
   ],
   "source": [
    "# cannot just pass itertools.chain (sans list) because itertools.chain cycles just once\n",
    "# and we have multiple steps\n",
    "svc.fit(crtrain_inmem, crtrain_labels)\n",
    "svc.score(crtest_inmem, crtest_labels)"
   ]
  },
  {
   "cell_type": "code",
   "execution_count": 151,
   "metadata": {
    "autoscroll": false,
    "collapsed": false,
    "ein.tags": "worksheet-0",
    "slideshow": {
     "slide_type": "-"
    }
   },
   "outputs": [
    {
     "name": "stdout",
     "output_type": "stream",
     "text": [
      "0.737083811711\n"
     ]
    },
    {
     "name": "stdout",
     "output_type": "stream",
     "text": [
      "0.785304247991\n"
     ]
    }
   ],
   "source": [
    "svc.steps[-1] = ('ridgeclassifier', RidgeClassifier(tol=1e-2, solver=\"lsqr\"))\n",
    "svc.fit(crtrain_inmem, crtrain_labels)\n",
    "print(svc.score(crtest_inmem, crtest_labels))\n",
    "svc.steps[-1] = ('linearsvc', LinearSVC())\n",
    "svc.fit(crtrain_inmem, crtrain_labels)\n",
    "print(svc.score(crtest_inmem, crtest_labels))\n"
   ]
  },
  {
   "cell_type": "code",
   "execution_count": null,
   "metadata": {
    "autoscroll": false,
    "collapsed": false,
    "ein.tags": "worksheet-0",
    "slideshow": {
     "slide_type": "-"
    }
   },
   "outputs": [],
   "source": [
    "[' '.join(crtest_inmem[i]) for i in [i for c,i in np.ndenumerate(np.where(grid_svm.decision_function(crtest_inmem) > 0.0))] if i < len(crsub_inmem)]"
   ]
  },
  {
   "cell_type": "code",
   "execution_count": null,
   "metadata": {
    "autoscroll": false,
    "collapsed": false,
    "ein.tags": "worksheet-0",
    "slideshow": {
     "slide_type": "-"
    }
   },
   "outputs": [],
   "source": [
    "[' '.join(crtest_inmem[i]) for i in [i for c,i in np.ndenumerate(np.where(grid_svm.decision_function(crtest_inmem) < -0.5))] if i >= len(crsub_inmem)]"
   ]
  },
  {
   "cell_type": "code",
   "execution_count": 123,
   "metadata": {
    "autoscroll": false,
    "collapsed": false,
    "ein.tags": "worksheet-0",
    "slideshow": {
     "slide_type": "-"
    }
   },
   "outputs": [],
   "source": [
    "class i2what(object):\n",
    "    def __init__(self, arr):\n",
    "        self._i2w = arr\n",
    "    def __len__(self):\n",
    "        return len(self._i2w)    \n",
    "    def q_dupe(self, i):\n",
    "        return self._i2w[i] < 0\n",
    "    def __getitem__(self, i):\n",
    "        return abs(self._i2w[i])\n",
    "    def __iter__(self):\n",
    "        for i in self._i2w:\n",
    "            if self.q_dupe(i):\n",
    "                next\n",
    "            else:\n",
    "                yield self[i]\n",
    "        \n",
    "def CorpusDedupe(cr, dict):\n",
    "    # dict.doc2bow makes:\n",
    "    #   corpus = [[(0, 1.0), (1, 1.0), (2, 1.0)],\n",
    "    #             [(2, 1.0), (3, 1.0), (4, 1.0), (5, 1.0), (6, 1.0), (8, 1.0)],\n",
    "    #             [(1, 1.0), (3, 1.0), (4, 1.0), (7, 1.0)],      ]\n",
    "    corpus = [dict.doc2bow(doc) for doc in list(cr)]\n",
    "    tfidf = models.TfidfModel(corpus)\n",
    "\n",
    "    i2text = np.arange(1,len(corpus)+1,1)\n",
    "    index = SparseMatrixSimilarity(tfidf[corpus], num_features=len(dict.keys()))\n",
    "    for i, z in enumerate(index):\n",
    "        if i2text[i] > 0:\n",
    "            negated = -i2text[i]\n",
    "            for j, sim in enumerate(z[i+1:]):\n",
    "                if sim > .61:\n",
    "\t\t    i2text[i] = i2text[i+1+j] = negated\n",
    "#    [' '.join(s) for s in itemgetter(*[446, 287, 468,   9, 100, 104, 426, 429, 519, 433])(list(crabo))]\n",
    "\n",
    "    return i2what(i2text)\n",
    "\n",
    "#list(index)[519][np.argpartition(list(index)[519], -10)[-10:]]\n",
    "#np.argpartition(list(index)[519], -10)[-10:]\n",
    "#[' '.join(s) for s in itemgetter(*[446, 287, 468,   9, 100, 104, 426, 429, 519, 433])(list(crabo))]"
   ]
  },
  {
   "cell_type": "code",
   "execution_count": 196,
   "metadata": {
    "autoscroll": false,
    "collapsed": false,
    "ein.tags": "worksheet-0",
    "slideshow": {
     "slide_type": "-"
    }
   },
   "outputs": [],
   "source": [
    "# order of labels in `target_names` can be different from `categories`\n",
    "target_names = ['spam', 'ham']\n",
    "def size_mb(docs):\n",
    "    return sum(len(s.encode('utf-8')) for s in docs) / 1e6\n",
    "from os.path import getmtime, join, realpath\n",
    "data_train_size_mb = size_mb(itertools.chain(crabo_train.words(), crsub_train.words()))\n"
   ]
  },
  {
   "cell_type": "code",
   "execution_count": 203,
   "metadata": {
    "autoscroll": false,
    "collapsed": false,
    "ein.tags": "worksheet-0",
    "slideshow": {
     "slide_type": "-"
    }
   },
   "outputs": [],
   "source": [
    "def trim(s):\n",
    "    \"\"\"Trim string to fit on terminal (assuming 80-column display)\"\"\"\n",
    "    return s if len(s) <= 80 else s[:77] + \"...\"\n",
    "\n",
    "\n",
    "# #############################################################################\n",
    "# Benchmark classifiers\n",
    "opts = dict()\n",
    "def benchmark(clf, X_train, y_train, X_test, y_test):\n",
    "    print('_' * 80)\n",
    "    print(\"Training: \")\n",
    "    print(clf)\n",
    "    t0 = time()\n",
    "    clf.fit(X_train, y_train)\n",
    "    train_time = time() - t0\n",
    "    print(\"train time: %0.3fs\" % train_time)\n",
    "\n",
    "    t0 = time()\n",
    "    pred = clf.predict(X_test)\n",
    "    test_time = time() - t0\n",
    "    print(\"test time:  %0.3fs\" % test_time)\n",
    "\n",
    "    score = metrics.accuracy_score(y_test, pred)\n",
    "    print(\"accuracy:   %0.3f\" % score)\n",
    "\n",
    "    if hasattr(clf, 'coef_'):\n",
    "        print(\"dimensionality: %d\" % clf.coef_.shape[1])\n",
    "        print(\"density: %f\" % density(clf.coef_))\n",
    "\n",
    "        if opts.get('print_top10'):\n",
    "            print(\"top 10 keywords per class:\")\n",
    "            for i in range(0, clf.coef_.shape[0]):\n",
    "                top10 = np.argsort(clf.coef_[i])[:10]\n",
    "                print(trim(\"%s: %s\" % (target_names[i], \" \".join([dictionary.get(w) for w in top10]))))\n",
    "            for i in range(0, clf.coef_.shape[0]):\n",
    "                top10 = np.argsort(clf.coef_[i])[-10:]\n",
    "                print(trim(\"%s: %s\" % (target_names[clf.coef_.shape[0]-i], \" \".join([dictionary.get(w) for w in top10]))))\n",
    "\n",
    "        print()\n",
    "\n",
    "    if opts.get('print_report'):\n",
    "        print(\"classification report:\")\n",
    "        print(metrics.classification_report(y_test, pred,\n",
    "                                            target_names=target_names))\n",
    "\n",
    "    if opts.get('print_cm'):\n",
    "        print(\"confusion matrix:\")\n",
    "        print(metrics.confusion_matrix(y_test, pred))\n",
    "\n",
    "    print()\n",
    "    clf_descr = str(clf).split('(')[0]\n",
    "    return clf_descr, score, train_time, test_time\n",
    "\n"
   ]
  },
  {
   "cell_type": "code",
   "execution_count": null,
   "metadata": {
    "autoscroll": false,
    "collapsed": false,
    "ein.tags": "worksheet-0",
    "slideshow": {
     "slide_type": "-"
    }
   },
   "outputs": [
    {
     "name": "stdout",
     "output_type": "stream",
     "text": [
      "================================================================================\n",
      "Ridge Classifier\n",
      "________________________________________________________________________________\n",
      "Training: \n",
      "RidgeClassifier(alpha=1.0, class_weight=None, copy_X=True, fit_intercept=True,\n",
      "        max_iter=None, normalize=False, random_state=None, solver='lsqr',\n",
      "        tol=0.01)\n",
      "train time: 0.165s\n",
      "test time:  0.000s\n",
      "accuracy:   0.965\n",
      "dimensionality: 15501\n",
      "density: 1.000000\n",
      "top 10 keywords per class:\n",
      "abo: floors viewing Email Ade our . closets _ No NO\n",
      "\n",
      "classification report:\n",
      "             precision    recall  f1-score   support\n",
      "\n",
      "        abo       0.94      0.92      0.93       193\n",
      "        sub       0.97      0.98      0.98       576\n",
      "\n",
      "avg / total       0.96      0.96      0.96       769\n",
      "\n",
      "confusion matrix:\n",
      "[[178  15]\n",
      " [ 12 564]]\n",
      "\n",
      "================================================================================\n",
      "Perceptron\n",
      "________________________________________________________________________________\n",
      "Training: \n",
      "Perceptron(alpha=0.0001, class_weight=None, eta0=1.0, fit_intercept=True,\n",
      "      max_iter=None, n_iter=50, n_jobs=1, penalty=None, random_state=0,\n",
      "      shuffle=True, tol=0.001, verbose=0, warm_start=False)\n",
      "train time: 0.011s\n",
      "test time:  0.000s\n",
      "accuracy:   0.957\n",
      "dimensionality: 15501\n",
      "density: 0.650797\n",
      "top 10 keywords per class:\n",
      "abo: toilet Resident Appliances text contact gym closets appointment No NO\n",
      "\n",
      "classification report:\n",
      "             precision    recall  f1-score   support\n",
      "\n",
      "        abo       0.91      0.92      0.91       193\n",
      "        sub       0.97      0.97      0.97       576\n",
      "\n",
      "avg / total       0.96      0.96      0.96       769\n",
      "\n",
      "confusion matrix:\n",
      "[[177  16]\n",
      " [ 17 559]]\n",
      "\n",
      "================================================================================\n",
      "Passive-Aggressive\n",
      "________________________________________________________________________________\n",
      "Training: \n",
      "PassiveAggressiveClassifier(C=1.0, average=False, class_weight=None,\n",
      "              fit_intercept=True, loss='hinge', max_iter=None, n_iter=50,\n",
      "              n_jobs=1, random_state=None, shuffle=True, tol=0.001,\n",
      "              verbose=0, warm_start=False)\n"
     ]
    },
    {
     "name": "stderr",
     "output_type": "stream",
     "text": [
      "/home/dick/.local/lib/python2.7/site-packages/sklearn/linear_model/stochastic_gradient.py:117: DeprecationWarning: n_iter parameter is deprecated in 0.19 and will be removed in 0.21. Use max_iter and tol instead.\n",
      "  DeprecationWarning)\n",
      "/home/dick/.local/lib/python2.7/site-packages/sklearn/linear_model/stochastic_gradient.py:117: DeprecationWarning: n_iter parameter is deprecated in 0.19 and will be removed in 0.21. Use max_iter and tol instead.\n",
      "  DeprecationWarning)\n"
     ]
    },
    {
     "name": "stdout",
     "output_type": "stream",
     "text": [
      "train time: 0.032s\n",
      "test time:  0.001s\n",
      "accuracy:   0.957\n",
      "dimensionality: 15501\n",
      "density: 0.909619\n",
      "top 10 keywords per class:\n",
      "abo: Windows Semi appointment viewing complex lines closets NOT No NO\n",
      "\n",
      "classification report:\n",
      "             precision    recall  f1-score   support\n",
      "\n",
      "        abo       0.93      0.90      0.91       193\n",
      "        sub       0.97      0.98      0.97       576\n",
      "\n",
      "avg / total       0.96      0.96      0.96       769\n",
      "\n",
      "confusion matrix:\n",
      "[[174  19]\n",
      " [ 14 562]]\n",
      "\n",
      "================================================================================\n",
      "kNN\n",
      "________________________________________________________________________________\n",
      "Training: \n",
      "KNeighborsClassifier(algorithm='auto', leaf_size=30, metric='minkowski',\n",
      "           metric_params=None, n_jobs=1, n_neighbors=10, p=2,\n",
      "           weights='uniform')\n",
      "train time: 0.003s\n"
     ]
    },
    {
     "name": "stdout",
     "output_type": "stream",
     "text": [
      "test time:  0.392s\n",
      "accuracy:   0.590\n",
      "classification report:\n",
      "             precision    recall  f1-score   support\n",
      "\n",
      "        abo       0.38      1.00      0.55       193\n",
      "        sub       1.00      0.45      0.62       576\n",
      "\n",
      "avg / total       0.84      0.59      0.61       769\n",
      "\n",
      "confusion matrix:\n",
      "[[193   0]\n",
      " [315 261]]\n",
      "\n",
      "================================================================================\n",
      "Random forest\n",
      "________________________________________________________________________________\n",
      "Training: \n",
      "RandomForestClassifier(bootstrap=True, class_weight=None, criterion='gini',\n",
      "            max_depth=None, max_features='auto', max_leaf_nodes=None,\n",
      "            min_impurity_decrease=0.0, min_impurity_split=None,\n",
      "            min_samples_leaf=1, min_samples_split=2,\n",
      "            min_weight_fraction_leaf=0.0, n_estimators=100, n_jobs=1,\n",
      "            oob_score=False, random_state=None, verbose=0,\n",
      "            warm_start=False)\n"
     ]
    },
    {
     "name": "stdout",
     "output_type": "stream",
     "text": [
      "train time: 7.394s\n",
      "test time:  0.031s\n",
      "accuracy:   0.949\n",
      "classification report:\n",
      "             precision    recall  f1-score   support\n",
      "\n",
      "        abo       0.93      0.86      0.89       193\n",
      "        sub       0.95      0.98      0.97       576\n",
      "\n",
      "avg / total       0.95      0.95      0.95       769\n",
      "\n",
      "confusion matrix:\n",
      "[[166  27]\n",
      " [ 12 564]]\n",
      "\n",
      "================================================================================\n",
      "L2 penalty\n",
      "________________________________________________________________________________\n",
      "Training: \n",
      "LinearSVC(C=1.0, class_weight=None, dual=False, fit_intercept=True,\n",
      "     intercept_scaling=1, loss='squared_hinge', max_iter=1000,\n",
      "     multi_class='ovr', penalty='l2', random_state=None, tol=0.001,\n",
      "     verbose=0)\n",
      "train time: 0.148s\n",
      "test time:  0.001s\n",
      "accuracy:   0.964\n",
      "dimensionality: 15501\n",
      "density: 1.000000\n",
      "top 10 keywords per class:\n",
      "abo: Renovated schedule EMAIL appointment _ viewing Email closets No NO\n",
      "\n",
      "classification report:\n",
      "             precision    recall  f1-score   support\n",
      "\n",
      "        abo       0.94      0.91      0.93       193\n",
      "        sub       0.97      0.98      0.98       576\n",
      "\n",
      "avg / total       0.96      0.96      0.96       769\n",
      "\n",
      "confusion matrix:\n",
      "[[176  17]\n",
      " [ 11 565]]\n",
      "\n",
      "________________________________________________________________________________\n",
      "Training: \n",
      "SGDClassifier(alpha=0.0001, average=False, class_weight=None, epsilon=0.1,\n",
      "       eta0=0.0, fit_intercept=True, l1_ratio=0.15,\n",
      "       learning_rate='optimal', loss='hinge', max_iter=5, n_iter=50,\n",
      "       n_jobs=1, penalty='l2', power_t=0.5, random_state=None,\n",
      "       shuffle=True, tol=None, verbose=0, warm_start=False)\n"
     ]
    },
    {
     "name": "stderr",
     "output_type": "stream",
     "text": [
      "/home/dick/.local/lib/python2.7/site-packages/sklearn/linear_model/stochastic_gradient.py:117: DeprecationWarning: n_iter parameter is deprecated in 0.19 and will be removed in 0.21. Use max_iter and tol instead.\n",
      "  DeprecationWarning)\n"
     ]
    },
    {
     "name": "stdout",
     "output_type": "stream",
     "text": [
      "train time: 0.115s\n",
      "test time:  0.001s\n",
      "accuracy:   0.961\n",
      "dimensionality: 15501\n",
      "density: 0.864976\n",
      "top 10 keywords per class:\n",
      "abo: floors Renovated viewing appointment Email EMAIL text _ No NO\n",
      "\n",
      "classification report:\n",
      "             precision    recall  f1-score   support\n",
      "\n",
      "        abo       0.93      0.91      0.92       193\n",
      "        sub       0.97      0.98      0.97       576\n",
      "\n",
      "avg / total       0.96      0.96      0.96       769\n",
      "\n",
      "confusion matrix:\n",
      "[[176  17]\n",
      " [ 13 563]]\n",
      "\n",
      "================================================================================\n",
      "L1 penalty\n",
      "________________________________________________________________________________\n",
      "Training: \n",
      "LinearSVC(C=1.0, class_weight=None, dual=False, fit_intercept=True,\n",
      "     intercept_scaling=1, loss='squared_hinge', max_iter=1000,\n",
      "     multi_class='ovr', penalty='l1', random_state=None, tol=0.001,\n",
      "     verbose=0)\n"
     ]
    },
    {
     "name": "stdout",
     "output_type": "stream",
     "text": [
      "train time: 0.449s\n",
      "test time:  0.001s\n",
      "accuracy:   0.953\n",
      "dimensionality: 15501\n",
      "density: 0.062190\n",
      "top 10 keywords per class:\n",
      "abo: appointment complex ME Buses Amazon NOT Resident No NO .\n",
      "\n",
      "classification report:\n",
      "             precision    recall  f1-score   support\n",
      "\n",
      "        abo       0.93      0.88      0.90       193\n",
      "        sub       0.96      0.98      0.97       576\n",
      "\n",
      "avg / total       0.95      0.95      0.95       769\n",
      "\n",
      "confusion matrix:\n",
      "[[170  23]\n",
      " [ 13 563]]\n",
      "\n",
      "________________________________________________________________________________\n",
      "Training: \n",
      "SGDClassifier(alpha=0.0001, average=False, class_weight=None, epsilon=0.1,\n",
      "       eta0=0.0, fit_intercept=True, l1_ratio=0.15,\n",
      "       learning_rate='optimal', loss='hinge', max_iter=5, n_iter=50,\n",
      "       n_jobs=1, penalty='l1', power_t=0.5, random_state=None,\n",
      "       shuffle=True, tol=None, verbose=0, warm_start=False)\n"
     ]
    },
    {
     "name": "stderr",
     "output_type": "stream",
     "text": [
      "/home/dick/.local/lib/python2.7/site-packages/sklearn/linear_model/stochastic_gradient.py:117: DeprecationWarning: n_iter parameter is deprecated in 0.19 and will be removed in 0.21. Use max_iter and tol instead.\n",
      "  DeprecationWarning)\n"
     ]
    },
    {
     "name": "stdout",
     "output_type": "stream",
     "text": [
      "train time: 0.354s\n",
      "test time:  0.001s\n",
      "accuracy:   0.953\n",
      "dimensionality: 15501\n",
      "density: 0.051158\n",
      "top 10 keywords per class:\n",
      "abo: several BLDG Email apartments Resident viewing appointment . No NO\n",
      "\n",
      "classification report:\n",
      "             precision    recall  f1-score   support\n",
      "\n",
      "        abo       0.92      0.89      0.90       193\n",
      "        sub       0.96      0.98      0.97       576\n",
      "\n",
      "avg / total       0.95      0.95      0.95       769\n",
      "\n",
      "confusion matrix:\n",
      "[[171  22]\n",
      " [ 14 562]]\n",
      "\n",
      "================================================================================\n",
      "Elastic-Net penalty\n",
      "________________________________________________________________________________\n",
      "Training: \n",
      "SGDClassifier(alpha=0.0001, average=False, class_weight=None, epsilon=0.1,\n",
      "       eta0=0.0, fit_intercept=True, l1_ratio=0.15,\n",
      "       learning_rate='optimal', loss='hinge', max_iter=5, n_iter=50,\n",
      "       n_jobs=1, penalty='elasticnet', power_t=0.5, random_state=None,\n",
      "       shuffle=True, tol=None, verbose=0, warm_start=False)\n"
     ]
    },
    {
     "name": "stderr",
     "output_type": "stream",
     "text": [
      "/home/dick/.local/lib/python2.7/site-packages/sklearn/linear_model/stochastic_gradient.py:117: DeprecationWarning: n_iter parameter is deprecated in 0.19 and will be removed in 0.21. Use max_iter and tol instead.\n",
      "  DeprecationWarning)\n"
     ]
    },
    {
     "name": "stdout",
     "output_type": "stream",
     "text": [
      "train time: 0.405s\n",
      "test time:  0.001s\n",
      "accuracy:   0.961\n",
      "dimensionality: 15501\n",
      "density: 0.432295\n",
      "top 10 keywords per class:\n",
      "abo: ! schedule EMAIL _ Email viewing text appointment No NO\n",
      "\n",
      "classification report:\n",
      "             precision    recall  f1-score   support\n",
      "\n",
      "        abo       0.93      0.91      0.92       193\n",
      "        sub       0.97      0.98      0.97       576\n",
      "\n",
      "avg / total       0.96      0.96      0.96       769\n",
      "\n",
      "confusion matrix:\n",
      "[[176  17]\n",
      " [ 13 563]]\n",
      "\n",
      "================================================================================\n",
      "NearestCentroid (aka Rocchio classifier)\n",
      "________________________________________________________________________________\n",
      "Training: \n",
      "NearestCentroid(metric='euclidean', shrink_threshold=None)\n",
      "train time: 0.026s\n",
      "test time:  0.001s\n",
      "accuracy:   0.865\n",
      "classification report:\n",
      "             precision    recall  f1-score   support\n",
      "\n",
      "        abo       0.72      0.75      0.74       193\n",
      "        sub       0.92      0.90      0.91       576\n",
      "\n",
      "avg / total       0.87      0.86      0.87       769\n",
      "\n",
      "confusion matrix:\n",
      "[[145  48]\n",
      " [ 56 520]]\n",
      "\n",
      "================================================================================\n",
      "Naive Bayes\n",
      "________________________________________________________________________________\n",
      "Training: \n",
      "MultinomialNB(alpha=0.01, class_prior=None, fit_prior=True)\n",
      "train time: 0.006s\n",
      "test time:  0.001s\n",
      "accuracy:   0.941\n",
      "dimensionality: 15501\n",
      "density: 1.000000\n",
      "top 10 keywords per class:\n",
      "abo: with to and the a * ! , - •\n",
      "\n",
      "classification report:\n",
      "             precision    recall  f1-score   support\n",
      "\n",
      "        abo       0.87      0.91      0.89       193\n",
      "        sub       0.97      0.95      0.96       576\n",
      "\n",
      "avg / total       0.94      0.94      0.94       769\n",
      "\n",
      "confusion matrix:\n",
      "[[175  18]\n",
      " [ 27 549]]\n",
      "\n",
      "________________________________________________________________________________\n",
      "Training: \n",
      "BernoulliNB(alpha=0.01, binarize=0.0, class_prior=None, fit_prior=True)\n",
      "train time: 0.010s\n",
      "test time:  0.002s\n",
      "accuracy:   0.915\n",
      "dimensionality: 15501\n",
      "density: 1.000000\n",
      "top 10 keywords per class:\n",
      "abo: ! a the - with to in and , .\n",
      "\n",
      "classification report:\n",
      "             precision    recall  f1-score   support\n",
      "\n",
      "        abo       0.86      0.79      0.82       193\n",
      "        sub       0.93      0.96      0.94       576\n",
      "\n",
      "avg / total       0.91      0.92      0.91       769\n",
      "\n",
      "confusion matrix:\n",
      "[[153  40]\n",
      " [ 25 551]]\n",
      "\n",
      "________________________________________________________________________________\n",
      "Training: \n",
      "ComplementNB(alpha=0.1, class_prior=None, fit_prior=True, norm=False)\n",
      "train time: 0.006s\n",
      "test time:  0.001s\n",
      "accuracy:   0.943\n",
      "dimensionality: 15501\n",
      "density: 1.000000\n",
      "top 10 keywords per class:\n",
      "abo: PLAYROOM TOPS ATTACHED GARAGE VALET CHILDREN NET WON 50lbs tremendous\n",
      "\n",
      "classification report:\n",
      "             precision    recall  f1-score   support\n",
      "\n",
      "        abo       0.86      0.92      0.89       193\n",
      "        sub       0.97      0.95      0.96       576\n",
      "\n",
      "avg / total       0.94      0.94      0.94       769\n",
      "\n",
      "confusion matrix:\n",
      "[[178  15]\n",
      " [ 29 547]]\n",
      "\n",
      "================================================================================\n",
      "LinearSVC with L1-based feature selection\n",
      "________________________________________________________________________________\n",
      "Training: \n",
      "Pipeline(memory=None,\n",
      "     steps=[('feature_selection', SelectFromModel(estimator=LinearSVC(C=1.0, class_weight=None, dual=False, fit_intercept=True,\n",
      "     intercept_scaling=1, loss='squared_hinge', max_iter=1000,\n",
      "     multi_class='ovr', penalty='l1', random_state=None, tol=0.001,\n",
      "     verbose=0),\n",
      "        norm_order=1, prefit=...ax_iter=1000,\n",
      "     multi_class='ovr', penalty='l2', random_state=None, tol=0.0001,\n",
      "     verbose=0))])\n"
     ]
    },
    {
     "name": "stdout",
     "output_type": "stream",
     "text": [
      "train time: 0.518s\n",
      "test time:  0.002s\n",
      "accuracy:   0.958\n",
      "classification report:\n",
      "             precision    recall  f1-score   support\n",
      "\n",
      "        abo       0.94      0.89      0.91       193\n",
      "        sub       0.96      0.98      0.97       576\n",
      "\n",
      "avg / total       0.96      0.96      0.96       769\n",
      "\n",
      "confusion matrix:\n",
      "[[171  22]\n",
      " [ 10 566]]\n",
      "\n"
     ]
    },
    {
     "data": {
      "image/png": "[encoded data removed]",
      "text/plain": [
       "<matplotlib.figure.Figure at 0x7f56cfb66dd0>"
      ]
     },
     "metadata": {},
     "output_type": "display_data"
    }
   ],
   "source": [
    "results = []\n",
    "opts['print_top10'] = 1\n",
    "opts['print_cm'] = 1\n",
    "opts['print_report'] = 1\n",
    "for clf, name in (\n",
    "        (RidgeClassifier(tol=1e-2, solver=\"auto\"), \"Ridge Classifier\"),\n",
    "        (Perceptron(n_iter=50, tol=1e-3), \"Perceptron\"),\n",
    "        (PassiveAggressiveClassifier(n_iter=50, tol=1e-3),\n",
    "         \"Passive-Aggressive\"),\n",
    "        (KNeighborsClassifier(n_neighbors=10), \"kNN\"),\n",
    "        (RandomForestClassifier(n_estimators=100), \"Random forest\")):\n",
    "    print('=' * 80)\n",
    "    print(name)\n",
    "    results.append(benchmark(clf, X.transpose(), trainLabels, X2.transpose(), testLabels))\n",
    "for penalty in [\"l2\", \"l1\"]:\n",
    "    print('=' * 80)\n",
    "    print(\"%s penalty\" % penalty.upper())\n",
    "    # Train Liblinear model\n",
    "    results.append(benchmark(LinearSVC(penalty=penalty, dual=False,\n",
    "                                       tol=1e-3), X.transpose(), trainLabels, X2.transpose(), testLabels))\n",
    "\n",
    "    # Train SGD model\n",
    "    results.append(benchmark(SGDClassifier(alpha=.0001, n_iter=50,\n",
    "                                           penalty=penalty,\n",
    "                                           max_iter=5), X.transpose(), trainLabels, X2.transpose(), testLabels))\n",
    "\n",
    "# Train SGD with Elastic Net penalty\n",
    "print('=' * 80)\n",
    "print(\"Elastic-Net penalty\")\n",
    "results.append(benchmark(SGDClassifier(alpha=.0001, n_iter=50,\n",
    "                                       penalty=\"elasticnet\",\n",
    "                                       max_iter=5), X.transpose(), trainLabels, X2.transpose(), testLabels))\n",
    "\n",
    "# Train NearestCentroid without threshold\n",
    "print('=' * 80)\n",
    "print(\"NearestCentroid (aka Rocchio classifier)\")\n",
    "results.append(benchmark(NearestCentroid(), X.transpose(), trainLabels, X2.transpose(), testLabels))\n",
    "\n",
    "# Train sparse Naive Bayes classifiers\n",
    "print('=' * 80)\n",
    "print(\"Naive Bayes\")\n",
    "results.append(benchmark(MultinomialNB(alpha=.01), X.transpose(), trainLabels, X2.transpose(), testLabels))\n",
    "results.append(benchmark(BernoulliNB(alpha=.01), X.transpose(), trainLabels, X2.transpose(), testLabels))\n",
    "results.append(benchmark(ComplementNB(alpha=.1), X.transpose(), trainLabels, X2.transpose(), testLabels))\n",
    "\n",
    "print('=' * 80)\n",
    "print(\"LinearSVC with L1-based feature selection\")\n",
    "# The smaller C, the stronger the regularization.\n",
    "# The more regularization, the more sparsity.\n",
    "results.append(benchmark(Pipeline([\n",
    "  ('feature_selection', SelectFromModel(LinearSVC(penalty=\"l1\", dual=False,\n",
    "                                                  tol=1e-3))),\n",
    "  ('classification', LinearSVC(penalty=\"l2\"))]), X.transpose(), trainLabels, X2.transpose(), testLabels))\n",
    "\n",
    "# make some plots\n",
    "\n",
    "indices = np.arange(len(results))\n",
    "\n",
    "results = [[x[i] for x in results] for i in range(4)]\n",
    "\n",
    "clf_names, score, training_time, test_time = results\n",
    "training_time = np.array(training_time) / np.max(training_time)\n",
    "test_time = np.array(test_time) / np.max(test_time)\n",
    "\n",
    "plt.figure(figsize=(12, 8))\n",
    "plt.title(\"Score\")\n",
    "plt.barh(indices, score, .2, label=\"score\", color='navy')\n",
    "plt.barh(indices + .3, training_time, .2, label=\"training time\",\n",
    "         color='c')\n",
    "plt.barh(indices + .6, test_time, .2, label=\"test time\", color='darkorange')\n",
    "plt.yticks(())\n",
    "plt.legend(loc='best')\n",
    "plt.subplots_adjust(left=.25)\n",
    "plt.subplots_adjust(top=.95)\n",
    "plt.subplots_adjust(bottom=.05)\n",
    "\n",
    "for i, c in zip(indices, clf_names):\n",
    "    plt.text(-.3, i, c)\n",
    "\n",
    "plt.show()\n",
    "\n"
   ]
  },
  {
   "cell_type": "code",
   "execution_count": null,
   "metadata": {
    "autoscroll": false,
    "collapsed": false,
    "ein.tags": "worksheet-0",
    "slideshow": {
     "slide_type": "-"
    }
   },
   "outputs": [
    {
     "name": "stdout",
     "output_type": "stream",
     "text": [
      "             precision    recall  f1-score   support\n",
      "\n",
      "        abo      0.869     0.891     0.880       193\n",
      "        sub      0.963     0.955     0.959       576\n",
      "\n",
      "avg / total      0.939     0.939     0.939       769\n",
      "\n",
      "[[172  21]\n",
      " [ 26 550]]\n"
     ]
    }
   ],
   "source": [
    "testLabels = list(itertools.chain([1] * len(list(crabo_test)), [-1] * len(list(crsub_test))))\n",
    "ypred = model.predict(X2.transpose())\n",
    "print(classification_report(testLabels, ypred, target_names=['abo', 'sub'], digits=3))\n",
    "print(confusion_matrix(testLabels, ypred))"
   ]
  },
  {
   "cell_type": "code",
   "execution_count": null,
   "metadata": {
    "autoscroll": false,
    "collapsed": false,
    "ein.tags": "worksheet-0",
    "slideshow": {
     "slide_type": "-"
    }
   },
   "outputs": [
    {
     "data": {
      "text/plain": [
       "array([[ 0.49659214,  0.50340786],\n",
       "       [ 0.09777801,  0.90222199],\n",
       "       [ 0.1022115 ,  0.8977885 ],\n",
       "       ..., \n",
       "       [ 0.98153536,  0.01846464],\n",
       "       [ 0.78630818,  0.21369182],\n",
       "       [ 0.94885418,  0.05114582]])"
      ]
     },
     "execution_count": 203,
     "metadata": {},
     "output_type": "execute_result"
    }
   ],
   "source": [
    "model.predict_proba(X2.transpose())"
   ]
  },
  {
   "cell_type": "code",
   "execution_count": null,
   "metadata": {
    "autoscroll": false,
    "collapsed": false,
    "ein.tags": "worksheet-0",
    "slideshow": {
     "slide_type": "-"
    }
   },
   "outputs": [],
   "source": [
    "[' '.join(testdocs[i]) for i, x in enumerate(testLabels != ypred) if x and testLabels[i] == 1]\n"
   ]
  },
  {
   "cell_type": "code",
   "execution_count": null,
   "metadata": {
    "autoscroll": false,
    "collapsed": false,
    "ein.tags": "worksheet-0",
    "slideshow": {
     "slide_type": "-"
    }
   },
   "outputs": [
    {
     "data": {
      "text/plain": [
       "[(0,\n",
       "  u'0.247*\"\\u2022\" + 0.230*\",\" + 0.192*\"-\" + 0.158*\"the\" + 0.145*\"a\" + 0.137*\"*\" + 0.130*\":\" + 0.123*\"and\" + 0.112*\"is\" + 0.111*\"of\"'),\n",
       " (1,\n",
       "  u'-0.934*\"\\u2022\" + 0.078*\",\" + 0.051*\"the\" + -0.050*\"Hard\" + 0.050*\"a\" + 0.047*\"-\" + 0.047*\"*\" + 0.041*\"is\" + 0.036*\"!\" + -0.035*\"Features\"'),\n",
       " (2,\n",
       "  u'0.299*\"*\" + 0.231*\"TO\" + 0.229*\"VIEW\" + 0.207*\"!\" + 0.166*\"IN\" + 0.166*\"ROOM\" + 0.156*\"AND\" + 0.146*\"!!\" + 0.145*\"FULL\" + 0.128*\"KITCHEN\"'),\n",
       " (3,\n",
       "  u'-0.557*\"*\" + 0.159*\"VIEW\" + 0.153*\"TO\" + -0.136*\"Village\" + 0.117*\"ROOM\" + 0.111*\"IN\" + 0.107*\"AND\" + 0.103*\"FULL\" + -0.097*\"Side\" + -0.092*\"East\"'),\n",
       " (4,\n",
       "  u'0.457*\"*\" + 0.134*\"condo\" + 0.124*\"Financial\" + 0.109*\"District\" + 0.100*\",\" + 0.092*\"Club\" + 0.090*\"condominium\" + -0.089*\"is\" + 0.088*\"-\" + 0.086*\"In\"'),\n",
       " (5,\n",
       "  u'-0.422*\":\" + -0.176*\")\" + -0.172*\"(\" + -0.156*\"Case\" + -0.148*\"$\" + -0.138*\"com\" + -0.131*\"**\" + -0.124*\"more\" + -0.115*\"information\" + -0.113*\"For\"'),\n",
       " (6,\n",
       "  u'-0.162*\"-\" + -0.156*\"Stainless\" + -0.139*\"Steel\" + -0.137*\"Renovated\" + -0.132*\"Appliances\" + -0.119*\"Newly\" + 0.115*\"Financial\" + -0.115*\"Laundry\" + -0.114*\"Bright\" + -0.114*\"Doorman\"'),\n",
       " (7,\n",
       "  u'-0.215*\"cell\" + -0.205*\"reply\" + -0.204*\"Thank\" + -0.202*\"br\" + -0.199*\"it\" + -0.181*\"name\" + -0.179*\"asap\" + -0.178*\"up\" + -0.170*\"you\" + -0.169*\"can\"'),\n",
       " (8,\n",
       "  u'0.168*\"-\" + -0.165*\"Case\" + -0.138*\"**\" + -0.134*\"Murray\" + -0.131*\"Hill\" + 0.129*\"--\" + -0.123*\"granite\" + -0.113*\"marble\" + -0.111*\"com\" + -0.110*\"STREET\"'),\n",
       " (9,\n",
       "  u'-0.249*\"*\" + 0.118*\"Financial\" + 0.113*\"District\" + 0.110*\"condo\" + 0.104*\"Village\" + -0.103*\"food\" + -0.101*\"APPLY\" + 0.099*\"West\" + -0.098*\"flat\" + 0.095*\"pre\"')]"
      ]
     },
     "execution_count": 316,
     "metadata": {},
     "output_type": "execute_result"
    }
   ],
   "source": [
    "lsi = models.LsiModel(tfidf_corpus, id2word=dictionary, num_topics=10)\n",
    "lsi.print_topics(10)\n"
   ]
  },
  {
   "cell_type": "code",
   "execution_count": null,
   "metadata": {
    "autoscroll": false,
    "collapsed": false,
    "ein.tags": "worksheet-0",
    "slideshow": {
     "slide_type": "-"
    }
   },
   "outputs": [
    {
     "name": "stdout",
     "output_type": "stream",
     "text": [
      "             precision    recall  f1-score   support\n",
      "\n",
      "        abo      0.929     0.928     0.929      4096\n",
      "        sub      0.953     0.954     0.953      6236\n",
      "\n",
      "avg / total      0.944     0.944     0.944     10332\n",
      "\n"
     ]
    }
   ],
   "source": [
    "ypred = model.predict(X.transpose())\n",
    "print(classification_report(trainLabels, ypred, target_names=['abo', 'sub'], digits=3))\n"
   ]
  },
  {
   "cell_type": "code",
   "execution_count": null,
   "metadata": {
    "autoscroll": false,
    "collapsed": false,
    "ein.tags": "worksheet-0",
    "slideshow": {
     "slide_type": "-"
    }
   },
   "outputs": [
    {
     "name": "stdout",
     "output_type": "stream",
     "text": [
      "________________________________________________________________________________\n",
      "Training: \n",
      "RidgeClassifier(alpha=1.0, class_weight=None, copy_X=True, fit_intercept=True,\n",
      "        max_iter=None, normalize=False, random_state=None, solver='lsqr',\n",
      "        tol=0.01)\n",
      "train time: 0.084s\n",
      "test time:  0.001s\n",
      "accuracy:   0.898\n",
      "dimensionality: 19233\n",
      "density: 0.803931\n",
      "top 10 keywords per class:\n",
      "spam: This 2018 pictures Columbia laundry Call doorman tile Contact email\n",
      "ham: sublet ft ). artists :. artist Brooklyn am We I\n",
      "\n",
      "classification report:\n",
      "             precision    recall  f1-score   support\n",
      "\n",
      "       spam       0.93      0.95      0.94      2234\n",
      "        ham       0.67      0.59      0.63       379\n",
      "\n",
      "avg / total       0.89      0.90      0.90      2613\n",
      "\n",
      "confusion matrix:\n",
      "[[2123  111]\n",
      " [ 155  224]]\n",
      "\n"
     ]
    },
    {
     "data": {
      "text/plain": [
       "('RidgeClassifier',\n",
       " 0.89820130118637587,\n",
       " 0.08443093299865723,\n",
       " 0.000762939453125)"
      ]
     },
     "execution_count": 254,
     "metadata": {},
     "output_type": "execute_result"
    }
   ],
   "source": [
    "\n",
    "opts['print_top10'] = 1\n",
    "opts['print_cm'] = 1\n",
    "opts['print_report'] = 1\n",
    "\n",
    "benchmark(model, X.transpose(), trainLabels, X2.transpose(), [-1] * len(list(crsub)) + [1] * len(list(crjoin)))\n"
   ]
  },
  {
   "cell_type": "code",
   "execution_count": null,
   "metadata": {
    "autoscroll": false,
    "collapsed": false,
    "ein.tags": "worksheet-0",
    "slideshow": {
     "slide_type": "-"
    }
   },
   "outputs": [],
   "source": [
    "grid_svm.decision_function([testdocs[i] for i in np.where(grid_svm.predict(testdocs) > 0.0)[0]])\n",
    "[(scores[i],crtest_desc[i]) for i, x in enumerate(crtest_labels != predict) if x and crtest_labels[i] == 1]"
   ]
  }
 ],
 "metadata": {
  "kernelspec": {
   "display_name": "Python 2",
   "name": "python2"
  },
  "language_info": {
   "codemirror_mode": {
    "name": "ipython",
    "version": 2
   },
   "file_extension": ".py",
   "mimetype": "text/x-python",
   "name": "python",
   "nbconvert_exporter": "python",
   "pygments_lexer": "ipython2",
   "version": "2.7.12"
  },
  "name": "blog.ipynb"
 },
 "nbformat": 4,
 "nbformat_minor": 1
}
